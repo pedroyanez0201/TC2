{
 "cells": [
  {
   "cell_type": "code",
   "execution_count": 2,
   "id": "c9b2f70d",
   "metadata": {},
   "outputs": [
    {
     "data": {
      "text/latex": [
       "$\\displaystyle  [Y_{MAI}] = \\left[\\begin{matrix}G + Ya & 0 & - G & - Ya\\\\0 & G + Yb & - Yb & - G\\\\- G & - Yb & 2 G + Yb & - G\\\\- Ya & - G & - G & 2 G + Ya\\end{matrix}\\right]$"
      ],
      "text/plain": [
       "<IPython.core.display.Math object>"
      ]
     },
     "metadata": {},
     "output_type": "display_data"
    },
    {
     "data": {
      "text/latex": [
       "$\\displaystyle  [Y^{ 00 }_{ 11 } ] = \\left[\\begin{matrix}2 G + Yb & - G\\\\- G & 2 G + Ya\\end{matrix}\\right]$"
      ],
      "text/plain": [
       "<IPython.core.display.Math object>"
      ]
     },
     "metadata": {},
     "output_type": "display_data"
    },
    {
     "data": {
      "text/latex": [
       "$\\displaystyle [Y^{ 0 }_{ 0 }] = \\left[\\begin{matrix}G + Yb & - Yb & - G\\\\- Yb & 2 G + Yb & - G\\\\- G & - G & 2 G + Ya\\end{matrix}\\right]$"
      ],
      "text/plain": [
       "<IPython.core.display.Math object>"
      ]
     },
     "metadata": {},
     "output_type": "display_data"
    },
    {
     "data": {
      "text/latex": [
       "$\\displaystyle Z_{ 01 } = \\frac{ \\underline{Y}^{ 00 }_{ 11 } }{ \\underline{Y}^{ 0 }_{ 0 } } = \\frac{3 G^{2} + 2 G Ya + 2 G Yb + Ya Yb}{G \\left(G^{2} + 2 G Ya + 2 G Yb + 3 Ya Yb\\right)}$"
      ],
      "text/plain": [
       "<IPython.core.display.Math object>"
      ]
     },
     "metadata": {},
     "output_type": "display_data"
    },
    {
     "name": "stdout",
     "output_type": "stream",
     "text": [
      "si consideramos:\n"
     ]
    },
    {
     "data": {
      "text/latex": [
       "$\\displaystyle G^2 = Y_a . Y_b$"
      ],
      "text/plain": [
       "<IPython.core.display.Math object>"
      ]
     },
     "metadata": {},
     "output_type": "display_data"
    },
    {
     "name": "stdout",
     "output_type": "stream",
     "text": [
      "entonces\n"
     ]
    },
    {
     "data": {
      "text/latex": [
       "$\\displaystyle Z_{ 01 } = \\frac{1}{G}$"
      ],
      "text/plain": [
       "<IPython.core.display.Math object>"
      ]
     },
     "metadata": {},
     "output_type": "display_data"
    },
    {
     "name": "stdout",
     "output_type": "stream",
     "text": [
      "Transferencia de tensión:\n"
     ]
    },
    {
     "data": {
      "text/latex": [
       "$\\displaystyle  [Y_{MAI}] = \\left[\\begin{matrix}G + Ya & 0 & - G & - Ya\\\\0 & G + Yb & - Yb & - G\\\\- G & - Yb & 2 G + Yb & - G\\\\- Ya & - G & - G & 2 G + Ya\\end{matrix}\\right]$"
      ],
      "text/plain": [
       "<IPython.core.display.Math object>"
      ]
     },
     "metadata": {},
     "output_type": "display_data"
    },
    {
     "data": {
      "text/latex": [
       "$\\displaystyle  [Y^{ 01 }_{ 31 } ] = \\left[\\begin{matrix}- G & - Ya\\\\2 G + Yb & - G\\end{matrix}\\right]$"
      ],
      "text/plain": [
       "<IPython.core.display.Math object>"
      ]
     },
     "metadata": {},
     "output_type": "display_data"
    },
    {
     "data": {
      "text/latex": [
       "$\\displaystyle [Y^{ 01 }_{ 01 } ] = \\left[\\begin{matrix}2 G + Yb & - G\\\\- G & 2 G + Ya\\end{matrix}\\right]$"
      ],
      "text/plain": [
       "<IPython.core.display.Math object>"
      ]
     },
     "metadata": {},
     "output_type": "display_data"
    },
    {
     "data": {
      "text/latex": [
       "$\\displaystyle T^{ 31 }_{ 01 } = \\frac{ \\underline{Y}^{ 01 }_{ 31 } }{ \\underline{Y}^{ 01 }_{ 01 } } =  -1^{ 5 } \\frac{{ G^{2} + 2 G Ya + Ya Yb}}{{3 G^{2} + 2 G Ya + 2 G Yb + Ya Yb}} = - \\frac{G^{2} + 2 G Ya + Ya Yb}{3 G^{2} + 2 G Ya + 2 G Yb + Ya Yb}$"
      ],
      "text/plain": [
       "<IPython.core.display.Math object>"
      ]
     },
     "metadata": {},
     "output_type": "display_data"
    },
    {
     "data": {
      "text/latex": [
       "$\\displaystyle T^{ 31 }_{ 01 } = - \\frac{Ya}{G + Ya} = - \\frac{G}{G + Yb}$"
      ],
      "text/plain": [
       "<IPython.core.display.Math object>"
      ]
     },
     "metadata": {},
     "output_type": "display_data"
    },
    {
     "name": "stdout",
     "output_type": "stream",
     "text": [
      "Transimpedancia:\n"
     ]
    },
    {
     "data": {
      "text/latex": [
       "$\\displaystyle  [Y_{MAI}] = \\left[\\begin{matrix}G + Ya & 0 & - G & - Ya\\\\0 & G + Yb & - Yb & - G\\\\- G & - Yb & 2 G + Yb & - G\\\\- Ya & - G & - G & 2 G + Ya\\end{matrix}\\right]$"
      ],
      "text/plain": [
       "<IPython.core.display.Math object>"
      ]
     },
     "metadata": {},
     "output_type": "display_data"
    },
    {
     "data": {
      "text/latex": [
       "$\\displaystyle  [Y^{ 01 }_{ 31 } ] = \\left[\\begin{matrix}- G & - Ya\\\\2 G + Yb & - G\\end{matrix}\\right]$"
      ],
      "text/plain": [
       "<IPython.core.display.Math object>"
      ]
     },
     "metadata": {},
     "output_type": "display_data"
    },
    {
     "data": {
      "text/latex": [
       "$\\displaystyle [Y^{ 0 }_{ 0 }] = \\left[\\begin{matrix}G + Yb & - Yb & - G\\\\- Yb & 2 G + Yb & - G\\\\- G & - G & 2 G + Ya\\end{matrix}\\right]$"
      ],
      "text/plain": [
       "<IPython.core.display.Math object>"
      ]
     },
     "metadata": {},
     "output_type": "display_data"
    },
    {
     "data": {
      "text/latex": [
       "$\\displaystyle \\mathrm{Tz}^{ 31 }_{ 01 } = \\frac{ \\underline{Y}^{ 01 }_{ 31 } }{ \\underline{Y}^{ 0 }_{ 0 } } =  -1^{ 5 } \\frac{{ G^{2} + 2 G Ya + Ya Yb}}{{G \\left(G^{2} + 2 G Ya + 2 G Yb + 3 Ya Yb\\right)}} = - \\frac{G^{2} + 2 G Ya + Ya Yb}{G \\left(G^{2} + 2 G Ya + 2 G Yb + 3 Ya Yb\\right)}$"
      ],
      "text/plain": [
       "<IPython.core.display.Math object>"
      ]
     },
     "metadata": {},
     "output_type": "display_data"
    },
    {
     "data": {
      "text/latex": [
       "$\\displaystyle Z^{ 31 }_{ 01 } = - \\frac{Ya}{G \\left(G + Ya\\right)} = - \\frac{1}{G + Yb}$"
      ],
      "text/plain": [
       "<IPython.core.display.Math object>"
      ]
     },
     "metadata": {},
     "output_type": "display_data"
    }
   ],
   "source": [
    "import sympy as sp\n",
    "from splane import print_latex, calc_MAI_impedance_ij, calc_MAI_vtransf_ij_mn, calc_MAI_ztransf_ij_mn\n",
    "\n",
    "\n",
    "# T puenteado cargado: red de R constante\n",
    "# explicación:\n",
    "'''    \n",
    "+ Numeramos los polos de 0 a n=3\n",
    "\n",
    "            |------Ya-------|\n",
    "            |               |\n",
    "    0-------+--G----2---G---3\n",
    "                    |       |\n",
    "                   Yb       G\n",
    "                    |       |\n",
    "    1---------------+--------\n",
    "    \n",
    "'''    \n",
    "\n",
    "Ya, Yb = sp.symbols('Ya Yb', complex=True)\n",
    "G = sp.symbols('G', real=True, positive=True)\n",
    "\n",
    "# Armo la MAI\n",
    "\n",
    "#               Nodos: 0      1        2        3\n",
    "Ymai = sp.Matrix([  \n",
    "                    [ Ya+G,   0,      -G,     -Ya],\n",
    "                    [ 0,     Yb+G,    -Yb,    -G],\n",
    "                    [ -G,   -Yb,      2*G+Yb, -G],\n",
    "                    [ -Ya,   -G,     -G,      2*G+Ya ]\n",
    "                 ])\n",
    "\n",
    "# con_detalles = False\n",
    "con_detalles = True\n",
    "\n",
    "# Calculo la Z en el puerto de entrada a partir de la MAI\n",
    "Zmai = calc_MAI_impedance_ij(Ymai, 0, 1, verbose=con_detalles)\n",
    "\n",
    "# Aplico la condición de R constante\n",
    "print('si consideramos:')\n",
    "print_latex( r'G^2 = Y_a . Y_b' )\n",
    "print('entonces')\n",
    "print_latex( r'Z_{{ {:d}{:d} }} = '.format(0,1) +  sp.latex(Zmai.subs(Ya*Yb, G**2)) )\n",
    "\n",
    "print('Transferencia de tensión:')\n",
    "Vmai = calc_MAI_vtransf_ij_mn(Ymai, 3, 1, 0, 1, verbose=con_detalles)\n",
    "Vmai = sp.simplify(Vmai.subs(Ya*Yb, G**2))\n",
    "Vmai_Ya = sp.simplify(Vmai.subs(Yb, G**2/Ya))\n",
    "Vmai_Yb = sp.simplify(Vmai.subs(Ya, G**2/Yb))\n",
    "\n",
    "print_latex( r'T^{{ {:d}{:d} }}_{{ {:d}{:d} }} = '.format(3, 1, 0, 1) +  sp.latex(Vmai_Ya) + ' = ' + sp.latex(Vmai_Yb) )\n",
    "\n",
    "print('Transimpedancia:')\n",
    "Zmai = calc_MAI_ztransf_ij_mn(Ymai, 3, 1, 0, 1, verbose=con_detalles)\n",
    "Zmai = sp.simplify(Zmai.subs(Ya*Yb, G**2))\n",
    "Zmai_Ya = sp.simplify(Zmai.subs(Yb, G**2/Ya))\n",
    "Zmai_Yb = sp.simplify(Zmai.subs(Ya, G**2/Yb))\n",
    "print_latex( r'Z^{{ {:d}{:d} }}_{{ {:d}{:d} }} = '.format(3, 1, 0, 1) + sp.latex(Zmai_Ya) + ' = ' + sp.latex(Zmai_Yb) )\n",
    "\n"
   ]
  },
  {
   "cell_type": "code",
   "execution_count": null,
   "id": "17f56d31",
   "metadata": {},
   "outputs": [],
   "source": []
  }
 ],
 "metadata": {
  "kernelspec": {
   "display_name": "Python 3 (ipykernel)",
   "language": "python",
   "name": "python3"
  },
  "language_info": {
   "codemirror_mode": {
    "name": "ipython",
    "version": 3
   },
   "file_extension": ".py",
   "mimetype": "text/x-python",
   "name": "python",
   "nbconvert_exporter": "python",
   "pygments_lexer": "ipython3",
   "version": "3.9.7"
  }
 },
 "nbformat": 4,
 "nbformat_minor": 5
}
